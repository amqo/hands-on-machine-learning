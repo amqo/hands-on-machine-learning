{
 "cells": [
  {
   "cell_type": "code",
   "execution_count": 3,
   "id": "aacf33b9-dd62-4a57-a723-30b56bffbb00",
   "metadata": {},
   "outputs": [
    {
     "data": {
      "text/plain": [
       "('2.10.0', '2.10.0')"
      ]
     },
     "execution_count": 3,
     "metadata": {},
     "output_type": "execute_result"
    }
   ],
   "source": [
    "import tensorflow as tf\n",
    "from tensorflow import keras\n",
    "\n",
    "tf.__version__, keras.__version__"
   ]
  },
  {
   "cell_type": "markdown",
   "id": "c8bf83a7-4a9d-4a3f-b5e4-1e36e1eff5ae",
   "metadata": {},
   "source": [
    "Classification DNN using Keras Sequential API"
   ]
  },
  {
   "cell_type": "code",
   "execution_count": 4,
   "id": "dda5f200-672d-41b0-8e62-147b228968d9",
   "metadata": {},
   "outputs": [
    {
     "name": "stdout",
     "output_type": "stream",
     "text": [
      "Downloading data from https://storage.googleapis.com/tensorflow/tf-keras-datasets/train-labels-idx1-ubyte.gz\n",
      "29515/29515 [==============================] - 0s 1us/step\n",
      "Downloading data from https://storage.googleapis.com/tensorflow/tf-keras-datasets/train-images-idx3-ubyte.gz\n",
      "26421880/26421880 [==============================] - 2s 0us/step\n",
      "Downloading data from https://storage.googleapis.com/tensorflow/tf-keras-datasets/t10k-labels-idx1-ubyte.gz\n",
      "5148/5148 [==============================] - 0s 0us/step\n",
      "Downloading data from https://storage.googleapis.com/tensorflow/tf-keras-datasets/t10k-images-idx3-ubyte.gz\n",
      "4422102/4422102 [==============================] - 0s 0us/step\n"
     ]
    }
   ],
   "source": [
    "fashion_mnist = keras.datasets.fashion_mnist\n",
    "(X_train_full, y_train_full), (X_test, y_test) = fashion_mnist.load_data()"
   ]
  },
  {
   "cell_type": "code",
   "execution_count": 5,
   "id": "0f6bcb71-b3a1-4d44-9e15-222b670a6562",
   "metadata": {},
   "outputs": [
    {
     "data": {
      "text/plain": [
       "((60000, 28, 28), dtype('uint8'))"
      ]
     },
     "execution_count": 5,
     "metadata": {},
     "output_type": "execute_result"
    }
   ],
   "source": [
    "X_train_full.shape, X_train_full.dtype"
   ]
  },
  {
   "cell_type": "code",
   "execution_count": 6,
   "id": "51ecff92-e3e5-460a-b9ad-0b6cab804122",
   "metadata": {},
   "outputs": [],
   "source": [
    "X_valid, X_train = X_train_full[:5000] / 255.0, X_train_full[5000:] / 255.0\n",
    "y_valid, y_train = y_train_full[:5000], y_train_full[5000:]\n",
    "X_test = X_test / 255.0"
   ]
  },
  {
   "cell_type": "code",
   "execution_count": 7,
   "id": "b86aafad-fe14-47d3-9874-7e2cacf02dbf",
   "metadata": {},
   "outputs": [],
   "source": [
    "class_names = [\"T-shirt/top\", \"Trouser\", \"Pullover\", \"Dress\", \"Coat\", \"Sandal\", \"Shirt\", \"Sneaker\", \"Bag\", \"Ankle boot\"]"
   ]
  },
  {
   "cell_type": "code",
   "execution_count": 9,
   "id": "882e3cd0-3f69-4ee9-95de-12a6f2df2b61",
   "metadata": {},
   "outputs": [
    {
     "data": {
      "text/plain": [
       "(4, 'Coat')"
      ]
     },
     "execution_count": 9,
     "metadata": {},
     "output_type": "execute_result"
    }
   ],
   "source": [
    "y_train[0], class_names[y_train[0]]"
   ]
  },
  {
   "cell_type": "code",
   "execution_count": 23,
   "id": "4aa12427-57df-401d-9030-4bd87c16da65",
   "metadata": {},
   "outputs": [
    {
     "name": "stdout",
     "output_type": "stream",
     "text": [
      "Image shape: (28, 28)\n",
      "\n"
     ]
    },
    {
     "data": {
      "image/png": "[encoded data removed]",
      "text/plain": [
       "<Figure size 100x100 with 1 Axes>"
      ]
     },
     "metadata": {},
     "output_type": "display_data"
    }
   ],
   "source": [
    "import matplotlib.pyplot as plt\n",
    "\n",
    "print(\"Image shape: \" + str(X_train[0].shape) + \"\\n\")\n",
    "\n",
    "plt.figure(figsize=(1, 1))\n",
    "plt.imshow(X_train[0])\n",
    "plt.axis(\"off\")\n",
    "plt.show()"
   ]
  },
  {
   "cell_type": "code",
   "execution_count": 24,
   "id": "44594d2a-fdc9-4582-9fc6-0f26af7168b0",
   "metadata": {},
   "outputs": [
    {
     "name": "stderr",
     "output_type": "stream",
     "text": [
      "2022-09-22 13:16:34.325936: I tensorflow/core/common_runtime/pluggable_device/pluggable_device_factory.cc:306] Could not identify NUMA node of platform GPU ID 0, defaulting to 0. Your kernel may not have been built with NUMA support.\n",
      "2022-09-22 13:16:34.326261: I tensorflow/core/common_runtime/pluggable_device/pluggable_device_factory.cc:272] Created TensorFlow device (/job:localhost/replica:0/task:0/device:GPU:0 with 0 MB memory) -> physical PluggableDevice (device: 0, name: METAL, pci bus id: <undefined>)\n"
     ]
    },
    {
     "name": "stdout",
     "output_type": "stream",
     "text": [
      "Metal device set to: Apple M1 Max\n"
     ]
    }
   ],
   "source": [
    "model = keras.models.Sequential()\n",
    "model.add(keras.layers.Flatten(input_shape=[28, 28]))\n",
    "model.add(keras.layers.Dense(300, activation=\"relu\"))\n",
    "model.add(keras.layers.Dense(100, activation=\"relu\"))\n",
    "model.add(keras.layers.Dense(10, activation=\"softmax\"))"
   ]
  },
  {
   "cell_type": "code",
   "execution_count": 26,
   "id": "7244e453-c19f-422c-b242-a4b91d9f36d2",
   "metadata": {},
   "outputs": [],
   "source": [
    "#Alternative way of doing the same:\n",
    "model = keras.models.Sequential([\n",
    "    keras.layers.Flatten(input_shape=[28, 28]),\n",
    "    keras.layers.Dense(300, activation=\"relu\"),\n",
    "    keras.layers.Dense(100, activation=\"relu\"),\n",
    "    keras.layers.Dense(10, activation=\"softmax\")\n",
    "])"
   ]
  },
  {
   "cell_type": "code",
   "execution_count": 27,
   "id": "ee5b98f3-1949-40ac-8575-d9ad531483a8",
   "metadata": {},
   "outputs": [
    {
     "name": "stdout",
     "output_type": "stream",
     "text": [
      "Model: \"sequential_1\"\n",
      "_________________________________________________________________\n",
      " Layer (type)                Output Shape              Param #   \n",
      "=================================================================\n",
      " flatten_1 (Flatten)         (None, 784)               0         \n",
      "                                                                 \n",
      " dense_3 (Dense)             (None, 300)               235500    \n",
      "                                                                 \n",
      " dense_4 (Dense)             (None, 100)               30100     \n",
      "                                                                 \n",
      " dense_5 (Dense)             (None, 10)                1010      \n",
      "                                                                 \n",
      "=================================================================\n",
      "Total params: 266,610\n",
      "Trainable params: 266,610\n",
      "Non-trainable params: 0\n",
      "_________________________________________________________________\n"
     ]
    }
   ],
   "source": [
    "model.summary()"
   ]
  },
  {
   "cell_type": "code",
   "execution_count": 28,
   "id": "3a93f26a-0a2f-4c2f-bcdd-fd34a09e7079",
   "metadata": {},
   "outputs": [
    {
     "data": {
      "text/plain": [
       "[<keras.layers.reshaping.flatten.Flatten at 0x2c41f6760>,\n",
       " <keras.layers.core.dense.Dense at 0x2c41f6e20>,\n",
       " <keras.layers.core.dense.Dense at 0x2c41f6490>,\n",
       " <keras.layers.core.dense.Dense at 0x2c41f6670>]"
      ]
     },
     "execution_count": 28,
     "metadata": {},
     "output_type": "execute_result"
    }
   ],
   "source": [
    "model.layers"
   ]
  },
  {
   "cell_type": "code",
   "execution_count": 32,
   "id": "f28d5352-906c-4a8c-afa6-800045011818",
   "metadata": {},
   "outputs": [
    {
     "data": {
      "text/plain": [
       "'dense_3'"
      ]
     },
     "execution_count": 32,
     "metadata": {},
     "output_type": "execute_result"
    }
   ],
   "source": [
    "hidden1 = model.layers[1]\n",
    "hidden1.name"
   ]
  },
  {
   "cell_type": "code",
   "execution_count": 33,
   "id": "23d69493-0121-43b1-af56-6d573b99ba47",
   "metadata": {},
   "outputs": [
    {
     "data": {
      "text/plain": [
       "True"
      ]
     },
     "execution_count": 33,
     "metadata": {},
     "output_type": "execute_result"
    }
   ],
   "source": [
    "model.get_layer('dense_3') is hidden1"
   ]
  },
  {
   "cell_type": "code",
   "execution_count": 36,
   "id": "09ae8f45-f4dd-4e42-9c41-fdfa2a48e944",
   "metadata": {},
   "outputs": [
    {
     "data": {
      "text/plain": [
       "(array([[-0.00514141,  0.02194236, -0.01781379, ...,  0.07382935,\n",
       "         -0.02373501,  0.06358339],\n",
       "        [-0.03367042,  0.01164905, -0.05591521, ..., -0.05726631,\n",
       "         -0.01404398,  0.00208317],\n",
       "        [-0.03174377,  0.07203485, -0.01024017, ...,  0.02401216,\n",
       "         -0.00873   ,  0.04127569],\n",
       "        ...,\n",
       "        [-0.00272794, -0.05984571, -0.01982886, ..., -0.00322458,\n",
       "         -0.04756613,  0.06375334],\n",
       "        [-0.00157102, -0.02240926, -0.02162092, ..., -0.02173708,\n",
       "         -0.02743725, -0.00642075],\n",
       "        [-0.02475765, -0.01893289,  0.03171214, ...,  0.03322469,\n",
       "         -0.06970531,  0.0434451 ]], dtype=float32),\n",
       " (784, 300))"
      ]
     },
     "execution_count": 36,
     "metadata": {},
     "output_type": "execute_result"
    }
   ],
   "source": [
    "weights, biases = hidden1.get_weights()\n",
    "weights, weights.shape"
   ]
  },
  {
   "cell_type": "code",
   "execution_count": 37,
   "id": "dc3047f0-f892-417e-a953-12a7cf45698d",
   "metadata": {},
   "outputs": [
    {
     "data": {
      "text/plain": [
       "(array([0., 0., 0., 0., 0., 0., 0., 0., 0., 0., 0., 0., 0., 0., 0., 0., 0.,\n",
       "        0., 0., 0., 0., 0., 0., 0., 0., 0., 0., 0., 0., 0., 0., 0., 0., 0.,\n",
       "        0., 0., 0., 0., 0., 0., 0., 0., 0., 0., 0., 0., 0., 0., 0., 0., 0.,\n",
       "        0., 0., 0., 0., 0., 0., 0., 0., 0., 0., 0., 0., 0., 0., 0., 0., 0.,\n",
       "        0., 0., 0., 0., 0., 0., 0., 0., 0., 0., 0., 0., 0., 0., 0., 0., 0.,\n",
       "        0., 0., 0., 0., 0., 0., 0., 0., 0., 0., 0., 0., 0., 0., 0., 0., 0.,\n",
       "        0., 0., 0., 0., 0., 0., 0., 0., 0., 0., 0., 0., 0., 0., 0., 0., 0.,\n",
       "        0., 0., 0., 0., 0., 0., 0., 0., 0., 0., 0., 0., 0., 0., 0., 0., 0.,\n",
       "        0., 0., 0., 0., 0., 0., 0., 0., 0., 0., 0., 0., 0., 0., 0., 0., 0.,\n",
       "        0., 0., 0., 0., 0., 0., 0., 0., 0., 0., 0., 0., 0., 0., 0., 0., 0.,\n",
       "        0., 0., 0., 0., 0., 0., 0., 0., 0., 0., 0., 0., 0., 0., 0., 0., 0.,\n",
       "        0., 0., 0., 0., 0., 0., 0., 0., 0., 0., 0., 0., 0., 0., 0., 0., 0.,\n",
       "        0., 0., 0., 0., 0., 0., 0., 0., 0., 0., 0., 0., 0., 0., 0., 0., 0.,\n",
       "        0., 0., 0., 0., 0., 0., 0., 0., 0., 0., 0., 0., 0., 0., 0., 0., 0.,\n",
       "        0., 0., 0., 0., 0., 0., 0., 0., 0., 0., 0., 0., 0., 0., 0., 0., 0.,\n",
       "        0., 0., 0., 0., 0., 0., 0., 0., 0., 0., 0., 0., 0., 0., 0., 0., 0.,\n",
       "        0., 0., 0., 0., 0., 0., 0., 0., 0., 0., 0., 0., 0., 0., 0., 0., 0.,\n",
       "        0., 0., 0., 0., 0., 0., 0., 0., 0., 0., 0.], dtype=float32),\n",
       " (300,))"
      ]
     },
     "execution_count": 37,
     "metadata": {},
     "output_type": "execute_result"
    }
   ],
   "source": [
    "biases, biases.shape"
   ]
  },
  {
   "cell_type": "code",
   "execution_count": 38,
   "id": "6fe92b60-932b-44d1-b4c2-9a816610a140",
   "metadata": {},
   "outputs": [],
   "source": [
    "model.compile(\n",
    "    loss=\"sparse_categorical_crossentropy\",\n",
    "    optimizer=\"sgd\",\n",
    "    metrics=[\"accuracy\"]\n",
    ")"
   ]
  },
  {
   "cell_type": "code",
   "execution_count": 39,
   "id": "bc26faa4-eca6-490d-b61b-88ab2de7e836",
   "metadata": {
    "collapsed": true,
    "jupyter": {
     "outputs_hidden": true
    },
    "tags": []
   },
   "outputs": [
    {
     "name": "stdout",
     "output_type": "stream",
     "text": [
      "Epoch 1/30\n"
     ]
    },
    {
     "name": "stderr",
     "output_type": "stream",
     "text": [
      "2022-09-22 13:35:13.693673: W tensorflow/core/platform/profile_utils/cpu_utils.cc:128] Failed to get CPU frequency: 0 Hz\n",
      "2022-09-22 13:35:13.831804: I tensorflow/core/grappler/optimizers/custom_graph_optimizer_registry.cc:114] Plugin optimizer for device_type GPU is enabled.\n"
     ]
    },
    {
     "name": "stdout",
     "output_type": "stream",
     "text": [
      "1719/1719 [==============================] - ETA: 0s - loss: 0.7339 - accuracy: 0.7603"
     ]
    },
    {
     "name": "stderr",
     "output_type": "stream",
     "text": [
      "2022-09-22 13:35:23.813708: I tensorflow/core/grappler/optimizers/custom_graph_optimizer_registry.cc:114] Plugin optimizer for device_type GPU is enabled.\n"
     ]
    },
    {
     "name": "stdout",
     "output_type": "stream",
     "text": [
      "1719/1719 [==============================] - 11s 5ms/step - loss: 0.7339 - accuracy: 0.7603 - val_loss: 0.5025 - val_accuracy: 0.8300\n",
      "Epoch 2/30\n",
      "1719/1719 [==============================] - 9s 5ms/step - loss: 0.4890 - accuracy: 0.8298 - val_loss: 0.4492 - val_accuracy: 0.8476\n",
      "Epoch 3/30\n",
      "1719/1719 [==============================] - 9s 5ms/step - loss: 0.4443 - accuracy: 0.8434 - val_loss: 0.4222 - val_accuracy: 0.8546\n",
      "Epoch 4/30\n",
      "1719/1719 [==============================] - 9s 5ms/step - loss: 0.4175 - accuracy: 0.8532 - val_loss: 0.3983 - val_accuracy: 0.8642\n",
      "Epoch 5/30\n",
      "1719/1719 [==============================] - 9s 5ms/step - loss: 0.3967 - accuracy: 0.8602 - val_loss: 0.3932 - val_accuracy: 0.8678\n",
      "Epoch 6/30\n",
      "1719/1719 [==============================] - 9s 5ms/step - loss: 0.3811 - accuracy: 0.8655 - val_loss: 0.3900 - val_accuracy: 0.8634\n",
      "Epoch 7/30\n",
      "1719/1719 [==============================] - 9s 5ms/step - loss: 0.3673 - accuracy: 0.8702 - val_loss: 0.3700 - val_accuracy: 0.8690\n",
      "Epoch 8/30\n",
      "1719/1719 [==============================] - 9s 5ms/step - loss: 0.3558 - accuracy: 0.8736 - val_loss: 0.3614 - val_accuracy: 0.8750\n",
      "Epoch 9/30\n",
      "1719/1719 [==============================] - 9s 5ms/step - loss: 0.3457 - accuracy: 0.8779 - val_loss: 0.3425 - val_accuracy: 0.8796\n",
      "Epoch 10/30\n",
      "1719/1719 [==============================] - 9s 5ms/step - loss: 0.3354 - accuracy: 0.8802 - val_loss: 0.3381 - val_accuracy: 0.8786\n",
      "Epoch 11/30\n",
      "1719/1719 [==============================] - 9s 5ms/step - loss: 0.3255 - accuracy: 0.8849 - val_loss: 0.3443 - val_accuracy: 0.8808\n",
      "Epoch 12/30\n",
      "1719/1719 [==============================] - 9s 5ms/step - loss: 0.3180 - accuracy: 0.8853 - val_loss: 0.3457 - val_accuracy: 0.8754\n",
      "Epoch 13/30\n",
      "1719/1719 [==============================] - 9s 5ms/step - loss: 0.3099 - accuracy: 0.8885 - val_loss: 0.3428 - val_accuracy: 0.8720\n",
      "Epoch 14/30\n",
      "1719/1719 [==============================] - 9s 5ms/step - loss: 0.3039 - accuracy: 0.8906 - val_loss: 0.3379 - val_accuracy: 0.8816\n",
      "Epoch 15/30\n",
      "1719/1719 [==============================] - 9s 5ms/step - loss: 0.2973 - accuracy: 0.8932 - val_loss: 0.3208 - val_accuracy: 0.8870\n",
      "Epoch 16/30\n",
      "1719/1719 [==============================] - 9s 5ms/step - loss: 0.2900 - accuracy: 0.8946 - val_loss: 0.3194 - val_accuracy: 0.8866\n",
      "Epoch 17/30\n",
      "1719/1719 [==============================] - 9s 5ms/step - loss: 0.2840 - accuracy: 0.8973 - val_loss: 0.3086 - val_accuracy: 0.8890\n",
      "Epoch 18/30\n",
      "1719/1719 [==============================] - 9s 5ms/step - loss: 0.2792 - accuracy: 0.8990 - val_loss: 0.3143 - val_accuracy: 0.8866\n",
      "Epoch 19/30\n",
      "1719/1719 [==============================] - 9s 5ms/step - loss: 0.2737 - accuracy: 0.9012 - val_loss: 0.3149 - val_accuracy: 0.8832\n",
      "Epoch 20/30\n",
      "1719/1719 [==============================] - 9s 5ms/step - loss: 0.2687 - accuracy: 0.9027 - val_loss: 0.3051 - val_accuracy: 0.8920\n",
      "Epoch 21/30\n",
      "1719/1719 [==============================] - 9s 5ms/step - loss: 0.2636 - accuracy: 0.9044 - val_loss: 0.3494 - val_accuracy: 0.8726\n",
      "Epoch 22/30\n",
      "1719/1719 [==============================] - 9s 5ms/step - loss: 0.2595 - accuracy: 0.9050 - val_loss: 0.3026 - val_accuracy: 0.8878\n",
      "Epoch 23/30\n",
      "1719/1719 [==============================] - 9s 5ms/step - loss: 0.2547 - accuracy: 0.9079 - val_loss: 0.3056 - val_accuracy: 0.8896\n",
      "Epoch 24/30\n",
      "1719/1719 [==============================] - 9s 5ms/step - loss: 0.2502 - accuracy: 0.9092 - val_loss: 0.3016 - val_accuracy: 0.8938\n",
      "Epoch 25/30\n",
      "1719/1719 [==============================] - 9s 5ms/step - loss: 0.2468 - accuracy: 0.9103 - val_loss: 0.2981 - val_accuracy: 0.8942\n",
      "Epoch 26/30\n",
      "1719/1719 [==============================] - 9s 5ms/step - loss: 0.2417 - accuracy: 0.9132 - val_loss: 0.2983 - val_accuracy: 0.8950\n",
      "Epoch 27/30\n",
      "1719/1719 [==============================] - 9s 5ms/step - loss: 0.2380 - accuracy: 0.9145 - val_loss: 0.3033 - val_accuracy: 0.8912\n",
      "Epoch 28/30\n",
      "1719/1719 [==============================] - 9s 5ms/step - loss: 0.2341 - accuracy: 0.9157 - val_loss: 0.2879 - val_accuracy: 0.8964\n",
      "Epoch 29/30\n",
      "1719/1719 [==============================] - 9s 5ms/step - loss: 0.2299 - accuracy: 0.9166 - val_loss: 0.3044 - val_accuracy: 0.8920\n",
      "Epoch 30/30\n",
      "1719/1719 [==============================] - 9s 5ms/step - loss: 0.2269 - accuracy: 0.9183 - val_loss: 0.3258 - val_accuracy: 0.8774\n"
     ]
    }
   ],
   "source": [
    "history = model.fit(\n",
    "    X_train, y_train, \n",
    "    epochs=30, \n",
    "    validation_data=(X_valid, y_valid)\n",
    ")"
   ]
  },
  {
   "cell_type": "code",
   "execution_count": 40,
   "id": "737ba5f1-46d2-4b07-8839-932ba1e7a2ff",
   "metadata": {},
   "outputs": [
    {
     "data": {
      "image/png": "[encoded data removed]",
      "text/plain": [
       "<Figure size 800x500 with 1 Axes>"
      ]
     },
     "metadata": {},
     "output_type": "display_data"
    }
   ],
   "source": [
    "import pandas as pd\n",
    "\n",
    "pd.DataFrame(history.history).plot(figsize=(8, 5))\n",
    "plt.grid(True)\n",
    "plt.gca().set_ylim(0, 1)\n",
    "plt.show()"
   ]
  },
  {
   "cell_type": "code",
   "execution_count": 41,
   "id": "0e4d7421-cf10-43dd-bbfb-077940edc3b1",
   "metadata": {},
   "outputs": [
    {
     "name": "stdout",
     "output_type": "stream",
     "text": [
      "313/313 [==============================] - 1s 4ms/step - loss: 0.3601 - accuracy: 0.8672\n"
     ]
    },
    {
     "data": {
      "text/plain": [
       "[0.36007604002952576, 0.8672000169754028]"
      ]
     },
     "execution_count": 41,
     "metadata": {},
     "output_type": "execute_result"
    }
   ],
   "source": [
    "model.evaluate(X_test, y_test)"
   ]
  },
  {
   "cell_type": "code",
   "execution_count": 42,
   "id": "e9ce3a8e-e5e7-477d-8c17-30a6aa1e9b26",
   "metadata": {},
   "outputs": [
    {
     "name": "stdout",
     "output_type": "stream",
     "text": [
      "1/1 [==============================] - 0s 124ms/step\n"
     ]
    },
    {
     "name": "stderr",
     "output_type": "stream",
     "text": [
      "2022-09-22 13:59:10.940833: I tensorflow/core/grappler/optimizers/custom_graph_optimizer_registry.cc:114] Plugin optimizer for device_type GPU is enabled.\n"
     ]
    },
    {
     "data": {
      "text/plain": [
       "array([[0.  , 0.  , 0.  , 0.  , 0.  , 0.01, 0.  , 0.01, 0.  , 0.98],\n",
       "       [0.  , 0.  , 1.  , 0.  , 0.  , 0.  , 0.  , 0.  , 0.  , 0.  ],\n",
       "       [0.  , 1.  , 0.  , 0.  , 0.  , 0.  , 0.  , 0.  , 0.  , 0.  ]],\n",
       "      dtype=float32)"
      ]
     },
     "execution_count": 42,
     "metadata": {},
     "output_type": "execute_result"
    }
   ],
   "source": [
    "#We now make predictions using the trained model\n",
    "X_new = X_test[:3]\n",
    "y_proba = model.predict(X_new)\n",
    "y_proba.round(2)"
   ]
  },
  {
   "cell_type": "code",
   "execution_count": 46,
   "id": "27e21130-17ff-4338-a626-cd6a38c7cc6a",
   "metadata": {},
   "outputs": [
    {
     "data": {
      "image/png": "[encoded data removed]",
      "text/plain": [
       "<Figure size 600x100 with 3 Axes>"
      ]
     },
     "metadata": {},
     "output_type": "display_data"
    }
   ],
   "source": [
    "import matplotlib as mpl\n",
    "\n",
    "fig = plt.figure(figsize=(6, 1))\n",
    "for index in range(3):\n",
    "    sub = fig.add_subplot(1, 3, index + 1)\n",
    "    sub.imshow(X_new[index], cmap = mpl.cm.binary, interpolation=\"nearest\")\n",
    "    sub.axis(\"off\")"
   ]
  },
  {
   "cell_type": "code",
   "execution_count": 71,
   "id": "5f48df78-2e2c-40a6-bf88-7bfb461d5aca",
   "metadata": {},
   "outputs": [
    {
     "data": {
      "text/plain": [
       "['Ankle boot', 'Pullover', 'Trouser']"
      ]
     },
     "execution_count": 71,
     "metadata": {},
     "output_type": "execute_result"
    }
   ],
   "source": [
    "proba_index = y_proba.argmax(axis=1)\n",
    "[class_names[index] for index in proba_index]"
   ]
  },
  {
   "cell_type": "code",
   "execution_count": 69,
   "id": "5e1725d0-47a8-477f-b4cb-da130f336ee8",
   "metadata": {},
   "outputs": [
    {
     "data": {
      "text/plain": [
       "(array([9, 2, 1], dtype=uint8), array([9, 2, 1]))"
      ]
     },
     "execution_count": 69,
     "metadata": {},
     "output_type": "execute_result"
    }
   ],
   "source": [
    "y_test[:3], proba_index"
   ]
  },
  {
   "cell_type": "markdown",
   "id": "915e1e4a-0ed0-431c-a33a-1429e02f24b7",
   "metadata": {},
   "source": [
    "Regression DNN using Keras Sequential API"
   ]
  },
  {
   "cell_type": "code",
   "execution_count": 74,
   "id": "3e18792c-1a63-402a-9cd7-525995813db6",
   "metadata": {},
   "outputs": [],
   "source": [
    "from sklearn.datasets import fetch_california_housing\n",
    "from sklearn.model_selection import train_test_split\n",
    "from sklearn.preprocessing import StandardScaler\n",
    "\n",
    "housing = fetch_california_housing()\n",
    "\n",
    "X_train_full, X_test, y_train_full, y_test = train_test_split(housing.data, housing.target)\n",
    "X_train, X_valid, y_train, y_valid = train_test_split(X_train_full, y_train_full)"
   ]
  },
  {
   "cell_type": "code",
   "execution_count": 75,
   "id": "de14cb37-3a71-4e62-99db-33d9635676cf",
   "metadata": {},
   "outputs": [],
   "source": [
    "scaler = StandardScaler()\n",
    "X_train = scaler.fit_transform(X_train)\n",
    "X_valid = scaler.transform(X_valid)\n",
    "X_test = scaler.transform(X_test)"
   ]
  },
  {
   "cell_type": "code",
   "execution_count": 78,
   "id": "30d0d062-cc2b-4c6e-b682-cdf1d3212b2e",
   "metadata": {},
   "outputs": [
    {
     "data": {
      "text/plain": [
       "(11610, 8)"
      ]
     },
     "execution_count": 78,
     "metadata": {},
     "output_type": "execute_result"
    }
   ],
   "source": [
    "X_train.shape"
   ]
  },
  {
   "cell_type": "code",
   "execution_count": 81,
   "id": "6e3fefc5-28f2-47e4-9ea9-26b3bfdb5493",
   "metadata": {},
   "outputs": [
    {
     "name": "stdout",
     "output_type": "stream",
     "text": [
      "Model: \"sequential_4\"\n",
      "_________________________________________________________________\n",
      " Layer (type)                Output Shape              Param #   \n",
      "=================================================================\n",
      " dense_10 (Dense)            (None, 30)                270       \n",
      "                                                                 \n",
      " dense_11 (Dense)            (None, 1)                 31        \n",
      "                                                                 \n",
      "=================================================================\n",
      "Total params: 301\n",
      "Trainable params: 301\n",
      "Non-trainable params: 0\n",
      "_________________________________________________________________\n"
     ]
    }
   ],
   "source": [
    "model = keras.models.Sequential([\n",
    "    keras.layers.Dense(30, activation=\"relu\", input_shape=[8]),\n",
    "    keras.layers.Dense(1)\n",
    "])\n",
    "model.compile(\n",
    "    loss=\"mean_squared_error\",\n",
    "    optimizer=\"sgd\"\n",
    ")\n",
    "model.summary()"
   ]
  },
  {
   "cell_type": "code",
   "execution_count": 82,
   "id": "5ff4a598-316c-4138-8228-9f3de0fcff23",
   "metadata": {
    "collapsed": true,
    "jupyter": {
     "outputs_hidden": true
    },
    "tags": []
   },
   "outputs": [
    {
     "name": "stdout",
     "output_type": "stream",
     "text": [
      "Epoch 1/20\n",
      " 45/363 [==>...........................] - ETA: 1s - loss: 2.3776"
     ]
    },
    {
     "name": "stderr",
     "output_type": "stream",
     "text": [
      "2022-09-22 14:54:28.347410: I tensorflow/core/grappler/optimizers/custom_graph_optimizer_registry.cc:114] Plugin optimizer for device_type GPU is enabled.\n"
     ]
    },
    {
     "name": "stdout",
     "output_type": "stream",
     "text": [
      "363/363 [==============================] - ETA: 0s - loss: 1.4239"
     ]
    },
    {
     "name": "stderr",
     "output_type": "stream",
     "text": [
      "2022-09-22 14:54:29.682282: I tensorflow/core/grappler/optimizers/custom_graph_optimizer_registry.cc:114] Plugin optimizer for device_type GPU is enabled.\n"
     ]
    },
    {
     "name": "stdout",
     "output_type": "stream",
     "text": [
      "363/363 [==============================] - 2s 4ms/step - loss: 1.4239 - val_loss: 0.7082\n",
      "Epoch 2/20\n",
      "363/363 [==============================] - 1s 4ms/step - loss: 0.5759 - val_loss: 0.4839\n",
      "Epoch 3/20\n",
      "363/363 [==============================] - 1s 4ms/step - loss: 0.4624 - val_loss: 0.4238\n",
      "Epoch 4/20\n",
      "363/363 [==============================] - 1s 4ms/step - loss: 0.4297 - val_loss: 0.4056\n",
      "Epoch 5/20\n",
      "363/363 [==============================] - 1s 4ms/step - loss: 0.4116 - val_loss: 0.3984\n",
      "Epoch 6/20\n",
      "363/363 [==============================] - 1s 4ms/step - loss: 0.4047 - val_loss: 0.3848\n",
      "Epoch 7/20\n",
      "363/363 [==============================] - 1s 4ms/step - loss: 0.3944 - val_loss: 0.3813\n",
      "Epoch 8/20\n",
      "363/363 [==============================] - 1s 4ms/step - loss: 0.3942 - val_loss: 0.3770\n",
      "Epoch 9/20\n",
      "363/363 [==============================] - 1s 4ms/step - loss: 0.3976 - val_loss: 0.3780\n",
      "Epoch 10/20\n",
      "363/363 [==============================] - 1s 4ms/step - loss: 0.3915 - val_loss: 0.3686\n",
      "Epoch 11/20\n",
      "363/363 [==============================] - 1s 4ms/step - loss: 0.3771 - val_loss: 0.3687\n",
      "Epoch 12/20\n",
      "363/363 [==============================] - 1s 4ms/step - loss: 0.3766 - val_loss: 0.3639\n",
      "Epoch 13/20\n",
      "363/363 [==============================] - 1s 4ms/step - loss: 0.3726 - val_loss: 0.3613\n",
      "Epoch 14/20\n",
      "363/363 [==============================] - 1s 4ms/step - loss: 0.3718 - val_loss: 0.3577\n",
      "Epoch 15/20\n",
      "363/363 [==============================] - 1s 4ms/step - loss: 0.3653 - val_loss: 0.3543\n",
      "Epoch 16/20\n",
      "363/363 [==============================] - 1s 4ms/step - loss: 0.3641 - val_loss: 0.3580\n",
      "Epoch 17/20\n",
      "363/363 [==============================] - 1s 4ms/step - loss: 0.3623 - val_loss: 0.3552\n",
      "Epoch 18/20\n",
      "363/363 [==============================] - 1s 4ms/step - loss: 0.3783 - val_loss: 0.3495\n",
      "Epoch 19/20\n",
      "363/363 [==============================] - 1s 4ms/step - loss: 0.3582 - val_loss: 0.3533\n",
      "Epoch 20/20\n",
      "363/363 [==============================] - 1s 4ms/step - loss: 0.3570 - val_loss: 0.3456\n"
     ]
    }
   ],
   "source": [
    "history = model.fit(\n",
    "    X_train, y_train,\n",
    "    epochs = 20,\n",
    "    validation_data=(X_valid, y_valid)\n",
    ")"
   ]
  },
  {
   "cell_type": "code",
   "execution_count": 83,
   "id": "e8d01f4a-88de-42e5-94ea-86aeae830868",
   "metadata": {},
   "outputs": [
    {
     "name": "stdout",
     "output_type": "stream",
     "text": [
      "162/162 [==============================] - 0s 3ms/step - loss: 0.3695\n"
     ]
    }
   ],
   "source": [
    "mse_test = model.evaluate(X_test, y_test)"
   ]
  },
  {
   "cell_type": "code",
   "execution_count": 86,
   "id": "341e9a23-d9da-4cee-98a1-c95d8a546261",
   "metadata": {},
   "outputs": [
    {
     "name": "stdout",
     "output_type": "stream",
     "text": [
      "1/1 [==============================] - 0s 12ms/step\n"
     ]
    },
    {
     "data": {
      "text/plain": [
       "(array([1.2620873, 1.7111522, 1.8400514], dtype=float32),\n",
       " array([1.518, 1.056, 1.95 ]))"
      ]
     },
     "execution_count": 86,
     "metadata": {},
     "output_type": "execute_result"
    }
   ],
   "source": [
    "X_new = X_test[:3]\n",
    "y_pred = model.predict(X_new)\n",
    "y_pred.flatten(), y_test[:3]"
   ]
  },
  {
   "cell_type": "markdown",
   "id": "0cbe93b4-590d-4d72-912f-252db2d80a96",
   "metadata": {},
   "source": [
    "Building complex models using the Functional API"
   ]
  },
  {
   "cell_type": "code",
   "execution_count": 93,
   "id": "67dda9ff-aa2a-4db0-b7a2-729345fe36f7",
   "metadata": {},
   "outputs": [],
   "source": [
    "input_ = keras.layers.Input(shape=X_train.shape[1:])\n",
    "hidden1 = keras.layers.Dense(30, activation=\"relu\")(input_)\n",
    "hidden2 = keras.layers.Dense(30, activation=\"relu\")(hidden1)\n",
    "concat = keras.layers.Concatenate()([input_, hidden2])\n",
    "output = keras.layers.Dense(1)(concat)\n",
    "model = keras.Model(inputs=[input_], outputs=[output])"
   ]
  },
  {
   "cell_type": "code",
   "execution_count": 94,
   "id": "609b08e3-e980-4b46-b4a3-0a826accc8a6",
   "metadata": {},
   "outputs": [
    {
     "name": "stdout",
     "output_type": "stream",
     "text": [
      "Model: \"model_2\"\n",
      "__________________________________________________________________________________________________\n",
      " Layer (type)                   Output Shape         Param #     Connected to                     \n",
      "==================================================================================================\n",
      " input_2 (InputLayer)           [(None, 8)]          0           []                               \n",
      "                                                                                                  \n",
      " dense_17 (Dense)               (None, 30)           270         ['input_2[0][0]']                \n",
      "                                                                                                  \n",
      " dense_18 (Dense)               (None, 30)           930         ['dense_17[0][0]']               \n",
      "                                                                                                  \n",
      " concatenate_2 (Concatenate)    (None, 38)           0           ['input_2[0][0]',                \n",
      "                                                                  'dense_18[0][0]']               \n",
      "                                                                                                  \n",
      " dense_19 (Dense)               (None, 1)            39          ['concatenate_2[0][0]']          \n",
      "                                                                                                  \n",
      "==================================================================================================\n",
      "Total params: 1,239\n",
      "Trainable params: 1,239\n",
      "Non-trainable params: 0\n",
      "__________________________________________________________________________________________________\n"
     ]
    },
    {
     "name": "stderr",
     "output_type": "stream",
     "text": [
      "/Users/amqo/Develop/ML/miniconda3/envs/handsOnTensorflow/lib/python3.9/site-packages/keras/optimizers/optimizer_v2/gradient_descent.py:111: UserWarning: The `lr` argument is deprecated, use `learning_rate` instead.\n",
      "  super().__init__(name, **kwargs)\n"
     ]
    }
   ],
   "source": [
    "model.compile(loss=\"mse\", optimizer=keras.optimizers.SGD(lr=1e-3))\n",
    "model.summary()"
   ]
  },
  {
   "cell_type": "code",
   "execution_count": 95,
   "id": "2960c398-4f13-4ac8-8298-14ec6978baf1",
   "metadata": {
    "collapsed": true,
    "jupyter": {
     "outputs_hidden": true
    },
    "tags": []
   },
   "outputs": [
    {
     "name": "stdout",
     "output_type": "stream",
     "text": [
      "Epoch 1/20\n",
      " 27/363 [=>............................] - ETA: 1s - loss: 5.3173 "
     ]
    },
    {
     "name": "stderr",
     "output_type": "stream",
     "text": [
      "2022-09-22 17:08:03.047183: I tensorflow/core/grappler/optimizers/custom_graph_optimizer_registry.cc:114] Plugin optimizer for device_type GPU is enabled.\n"
     ]
    },
    {
     "name": "stdout",
     "output_type": "stream",
     "text": [
      "356/363 [============================>.] - ETA: 0s - loss: 1.6754"
     ]
    },
    {
     "name": "stderr",
     "output_type": "stream",
     "text": [
      "2022-09-22 17:08:04.554729: I tensorflow/core/grappler/optimizers/custom_graph_optimizer_registry.cc:114] Plugin optimizer for device_type GPU is enabled.\n"
     ]
    },
    {
     "name": "stdout",
     "output_type": "stream",
     "text": [
      "363/363 [==============================] - 2s 5ms/step - loss: 1.6579 - val_loss: 0.7661\n",
      "Epoch 2/20\n",
      "363/363 [==============================] - 2s 5ms/step - loss: 0.7173 - val_loss: 0.6787\n",
      "Epoch 3/20\n",
      "363/363 [==============================] - 2s 5ms/step - loss: 0.6589 - val_loss: 0.6340\n",
      "Epoch 4/20\n",
      "363/363 [==============================] - 2s 5ms/step - loss: 0.6231 - val_loss: 0.6017\n",
      "Epoch 5/20\n",
      "363/363 [==============================] - 2s 5ms/step - loss: 0.5944 - val_loss: 0.5768\n",
      "Epoch 6/20\n",
      "363/363 [==============================] - 2s 5ms/step - loss: 0.5714 - val_loss: 0.5548\n",
      "Epoch 7/20\n",
      "363/363 [==============================] - 2s 5ms/step - loss: 0.5518 - val_loss: 0.5368\n",
      "Epoch 8/20\n",
      "363/363 [==============================] - 2s 5ms/step - loss: 0.5356 - val_loss: 0.5210\n",
      "Epoch 9/20\n",
      "363/363 [==============================] - 2s 5ms/step - loss: 0.5215 - val_loss: 0.5078\n",
      "Epoch 10/20\n",
      "363/363 [==============================] - 2s 5ms/step - loss: 0.5096 - val_loss: 0.4978\n",
      "Epoch 11/20\n",
      "363/363 [==============================] - 2s 5ms/step - loss: 0.4995 - val_loss: 0.4874\n",
      "Epoch 12/20\n",
      "363/363 [==============================] - 2s 5ms/step - loss: 0.4903 - val_loss: 0.4788\n",
      "Epoch 13/20\n",
      "363/363 [==============================] - 2s 5ms/step - loss: 0.4832 - val_loss: 0.4714\n",
      "Epoch 14/20\n",
      "363/363 [==============================] - 2s 5ms/step - loss: 0.4762 - val_loss: 0.4646\n",
      "Epoch 15/20\n",
      "363/363 [==============================] - 2s 5ms/step - loss: 0.4705 - val_loss: 0.4595\n",
      "Epoch 16/20\n",
      "363/363 [==============================] - 2s 5ms/step - loss: 0.4648 - val_loss: 0.4536\n",
      "Epoch 17/20\n",
      "363/363 [==============================] - 2s 5ms/step - loss: 0.4606 - val_loss: 0.4496\n",
      "Epoch 18/20\n",
      "363/363 [==============================] - 2s 5ms/step - loss: 0.4558 - val_loss: 0.4454\n",
      "Epoch 19/20\n",
      "363/363 [==============================] - 2s 5ms/step - loss: 0.4520 - val_loss: 0.4415\n",
      "Epoch 20/20\n",
      "363/363 [==============================] - 2s 5ms/step - loss: 0.4480 - val_loss: 0.4373\n"
     ]
    }
   ],
   "source": [
    "history = model.fit(\n",
    "    X_train, y_train,\n",
    "    epochs = 20,\n",
    "    validation_data=(X_valid, y_valid)\n",
    ")"
   ]
  },
  {
   "cell_type": "code",
   "execution_count": 96,
   "id": "cdc8ae79-ee6f-40e0-9ce9-48e5414a8f74",
   "metadata": {},
   "outputs": [
    {
     "name": "stdout",
     "output_type": "stream",
     "text": [
      "162/162 [==============================] - 0s 3ms/step - loss: 0.4582\n"
     ]
    }
   ],
   "source": [
    "mse_test = model.evaluate(X_test, y_test)"
   ]
  },
  {
   "cell_type": "code",
   "execution_count": 97,
   "id": "1012fa73-6667-4a08-9213-47f955c065a6",
   "metadata": {},
   "outputs": [],
   "source": [
    "#Here we send a subset of the features through the wide path, and a different one throught the deep path\n",
    "input_A = keras.layers.Input(shape=[5], name=\"wide_input\")\n",
    "input_B = keras.layers.Input(shape=[6], name=\"deep_input\")\n",
    "hidden1 = keras.layers.Dense(30, activation=\"relu\")(input_B)\n",
    "hidden2 = keras.layers.Dense(30, activation=\"relu\")(hidden1)\n",
    "concat = keras.layers.concatenate([input_A, hidden2])\n",
    "output = keras.layers.Dense(1, name=\"output\")(concat)\n",
    "model = keras.Model(inputs=[input_A, input_B], outputs=[output])"
   ]
  },
  {
   "cell_type": "code",
   "execution_count": 99,
   "id": "306ac7f7-0fb8-4d13-9aa2-53e11a07a78d",
   "metadata": {},
   "outputs": [
    {
     "name": "stdout",
     "output_type": "stream",
     "text": [
      "Model: \"model_3\"\n",
      "__________________________________________________________________________________________________\n",
      " Layer (type)                   Output Shape         Param #     Connected to                     \n",
      "==================================================================================================\n",
      " deep_input (InputLayer)        [(None, 6)]          0           []                               \n",
      "                                                                                                  \n",
      " dense_20 (Dense)               (None, 30)           210         ['deep_input[0][0]']             \n",
      "                                                                                                  \n",
      " wide_input (InputLayer)        [(None, 5)]          0           []                               \n",
      "                                                                                                  \n",
      " dense_21 (Dense)               (None, 30)           930         ['dense_20[0][0]']               \n",
      "                                                                                                  \n",
      " concatenate_3 (Concatenate)    (None, 35)           0           ['wide_input[0][0]',             \n",
      "                                                                  'dense_21[0][0]']               \n",
      "                                                                                                  \n",
      " output (Dense)                 (None, 1)            36          ['concatenate_3[0][0]']          \n",
      "                                                                                                  \n",
      "==================================================================================================\n",
      "Total params: 1,176\n",
      "Trainable params: 1,176\n",
      "Non-trainable params: 0\n",
      "__________________________________________________________________________________________________\n"
     ]
    }
   ],
   "source": [
    "model.compile(loss=\"mse\", optimizer=keras.optimizers.SGD(lr=1e-3))\n",
    "model.summary()"
   ]
  },
  {
   "cell_type": "code",
   "execution_count": 102,
   "id": "103335fb-4ac3-446b-8677-968026999741",
   "metadata": {
    "collapsed": true,
    "jupyter": {
     "outputs_hidden": true
    },
    "tags": []
   },
   "outputs": [
    {
     "name": "stdout",
     "output_type": "stream",
     "text": [
      "Epoch 1/20\n",
      "  1/363 [..............................] - ETA: 1:38 - loss: 4.2121"
     ]
    },
    {
     "name": "stderr",
     "output_type": "stream",
     "text": [
      "2022-09-22 17:13:39.479190: I tensorflow/core/grappler/optimizers/custom_graph_optimizer_registry.cc:114] Plugin optimizer for device_type GPU is enabled.\n"
     ]
    },
    {
     "name": "stdout",
     "output_type": "stream",
     "text": [
      "363/363 [==============================] - ETA: 0s - loss: 2.0101"
     ]
    },
    {
     "name": "stderr",
     "output_type": "stream",
     "text": [
      "2022-09-22 17:13:41.196053: I tensorflow/core/grappler/optimizers/custom_graph_optimizer_registry.cc:114] Plugin optimizer for device_type GPU is enabled.\n"
     ]
    },
    {
     "name": "stdout",
     "output_type": "stream",
     "text": [
      "363/363 [==============================] - 2s 5ms/step - loss: 2.0101 - val_loss: 0.9304\n",
      "Epoch 2/20\n",
      "363/363 [==============================] - 2s 5ms/step - loss: 0.8550 - val_loss: 0.7605\n",
      "Epoch 3/20\n",
      "363/363 [==============================] - 2s 5ms/step - loss: 0.7415 - val_loss: 0.6999\n",
      "Epoch 4/20\n",
      "363/363 [==============================] - 2s 5ms/step - loss: 0.6951 - val_loss: 0.6643\n",
      "Epoch 5/20\n",
      "363/363 [==============================] - 2s 5ms/step - loss: 0.6630 - val_loss: 0.6377\n",
      "Epoch 6/20\n",
      "363/363 [==============================] - 2s 5ms/step - loss: 0.6378 - val_loss: 0.6148\n",
      "Epoch 7/20\n",
      "363/363 [==============================] - 2s 5ms/step - loss: 0.6165 - val_loss: 0.5952\n",
      "Epoch 8/20\n",
      "363/363 [==============================] - 2s 5ms/step - loss: 0.5989 - val_loss: 0.5802\n",
      "Epoch 9/20\n",
      "363/363 [==============================] - 2s 5ms/step - loss: 0.5848 - val_loss: 0.5692\n",
      "Epoch 10/20\n",
      "363/363 [==============================] - 2s 5ms/step - loss: 0.5736 - val_loss: 0.5584\n",
      "Epoch 11/20\n",
      "363/363 [==============================] - 2s 5ms/step - loss: 0.5635 - val_loss: 0.5510\n",
      "Epoch 12/20\n",
      "363/363 [==============================] - 2s 5ms/step - loss: 0.5554 - val_loss: 0.5422\n",
      "Epoch 13/20\n",
      "363/363 [==============================] - 2s 5ms/step - loss: 0.5483 - val_loss: 0.5353\n",
      "Epoch 14/20\n",
      "363/363 [==============================] - 2s 5ms/step - loss: 0.5416 - val_loss: 0.5298\n",
      "Epoch 15/20\n",
      "363/363 [==============================] - 2s 5ms/step - loss: 0.5360 - val_loss: 0.5240\n",
      "Epoch 16/20\n",
      "363/363 [==============================] - 2s 5ms/step - loss: 0.5300 - val_loss: 0.5195\n",
      "Epoch 17/20\n",
      "363/363 [==============================] - 2s 5ms/step - loss: 0.5255 - val_loss: 0.5137\n",
      "Epoch 18/20\n",
      "363/363 [==============================] - 2s 5ms/step - loss: 0.5210 - val_loss: 0.5096\n",
      "Epoch 19/20\n",
      "363/363 [==============================] - 2s 5ms/step - loss: 0.5158 - val_loss: 0.5048\n",
      "Epoch 20/20\n",
      "363/363 [==============================] - 2s 5ms/step - loss: 0.5120 - val_loss: 0.5009\n"
     ]
    }
   ],
   "source": [
    "X_train_A, X_train_B = X_train[:, :5], X_train[:, 2:]\n",
    "X_valid_A, X_valid_B = X_valid[:, :5], X_valid[:, 2:]\n",
    "X_test_A, X_test_B = X_test[:, :5], X_test[:, 2:]\n",
    "X_new_A, X_new_B = X_test_A[:3], X_test_B[:3]\n",
    "\n",
    "history = model.fit(\n",
    "    (X_train_A, X_train_B), y_train,\n",
    "    epochs=20,\n",
    "    validation_data=((X_valid_A, X_valid_B), y_valid)\n",
    ")"
   ]
  },
  {
   "cell_type": "code",
   "execution_count": 103,
   "id": "d081b817-bac6-4cef-92e2-e0b71ce68414",
   "metadata": {},
   "outputs": [
    {
     "name": "stdout",
     "output_type": "stream",
     "text": [
      "162/162 [==============================] - 0s 3ms/step - loss: 0.5212\n"
     ]
    }
   ],
   "source": [
    "mse_test = model.evaluate((X_test_A, X_test_B), y_test)"
   ]
  },
  {
   "cell_type": "code",
   "execution_count": 107,
   "id": "d1f57934-dcaf-4af0-ae35-5b990477f47c",
   "metadata": {},
   "outputs": [
    {
     "name": "stdout",
     "output_type": "stream",
     "text": [
      "1/1 [==============================] - 0s 13ms/step\n"
     ]
    },
    {
     "data": {
      "text/plain": [
       "(array([1.0752462, 1.8871574, 1.7042136], dtype=float32),\n",
       " array([1.518, 1.056, 1.95 ]))"
      ]
     },
     "execution_count": 107,
     "metadata": {},
     "output_type": "execute_result"
    }
   ],
   "source": [
    "y_pred = model.predict((X_new_A, X_new_B))\n",
    "y_pred.flatten(), y_test[:3]"
   ]
  },
  {
   "cell_type": "code",
   "execution_count": 110,
   "id": "91006b0b-b25e-48f2-9d74-e691d9170146",
   "metadata": {},
   "outputs": [],
   "source": [
    "#Adding extra outputs, here we add an aux. output that will make that segment of the network learn something on its own, without dependint on the rest of the network\n",
    "#This aux output can be used for regularization, as a common use case\n",
    "input_A = keras.layers.Input(shape=[5], name=\"wide_input\")\n",
    "input_B = keras.layers.Input(shape=[6], name=\"deep_input\")\n",
    "hidden1 = keras.layers.Dense(30, activation=\"relu\")(input_B)\n",
    "hidden2 = keras.layers.Dense(30, activation=\"relu\")(hidden1)\n",
    "concat = keras.layers.concatenate([input_A, hidden2])\n",
    "output = keras.layers.Dense(1, name=\"main_output\")(concat)\n",
    "aux_output = keras.layers.Dense(1, name=\"aux_output\")(hidden2)\n",
    "model = keras.Model(inputs=[input_A, input_B], outputs=[output, aux_output])"
   ]
  },
  {
   "cell_type": "code",
   "execution_count": 111,
   "id": "e7969d84-7bc9-4727-856a-d8719ef287b4",
   "metadata": {},
   "outputs": [
    {
     "name": "stdout",
     "output_type": "stream",
     "text": [
      "Model: \"model_5\"\n",
      "__________________________________________________________________________________________________\n",
      " Layer (type)                   Output Shape         Param #     Connected to                     \n",
      "==================================================================================================\n",
      " deep_input (InputLayer)        [(None, 6)]          0           []                               \n",
      "                                                                                                  \n",
      " dense_24 (Dense)               (None, 30)           210         ['deep_input[0][0]']             \n",
      "                                                                                                  \n",
      " wide_input (InputLayer)        [(None, 5)]          0           []                               \n",
      "                                                                                                  \n",
      " dense_25 (Dense)               (None, 30)           930         ['dense_24[0][0]']               \n",
      "                                                                                                  \n",
      " concatenate_5 (Concatenate)    (None, 35)           0           ['wide_input[0][0]',             \n",
      "                                                                  'dense_25[0][0]']               \n",
      "                                                                                                  \n",
      " main_output (Dense)            (None, 1)            36          ['concatenate_5[0][0]']          \n",
      "                                                                                                  \n",
      " aux_output (Dense)             (None, 1)            31          ['dense_25[0][0]']               \n",
      "                                                                                                  \n",
      "==================================================================================================\n",
      "Total params: 1,207\n",
      "Trainable params: 1,207\n",
      "Non-trainable params: 0\n",
      "__________________________________________________________________________________________________\n"
     ]
    }
   ],
   "source": [
    "model.summary()"
   ]
  },
  {
   "cell_type": "code",
   "execution_count": 113,
   "id": "9a91d4d0-9c86-489d-8fce-92bf6d324bb2",
   "metadata": {
    "collapsed": true,
    "jupyter": {
     "outputs_hidden": true
    },
    "tags": []
   },
   "outputs": [
    {
     "name": "stdout",
     "output_type": "stream",
     "text": [
      "Epoch 1/20\n",
      " 10/363 [..............................] - ETA: 2s - loss: 4.0994 - main_output_loss: 3.8440 - aux_output_loss: 6.3984  "
     ]
    },
    {
     "name": "stderr",
     "output_type": "stream",
     "text": [
      "2022-09-22 17:30:16.154605: I tensorflow/core/grappler/optimizers/custom_graph_optimizer_registry.cc:114] Plugin optimizer for device_type GPU is enabled.\n"
     ]
    },
    {
     "name": "stdout",
     "output_type": "stream",
     "text": [
      "363/363 [==============================] - ETA: 0s - loss: 0.9922 - main_output_loss: 0.8372 - aux_output_loss: 2.3874"
     ]
    },
    {
     "name": "stderr",
     "output_type": "stream",
     "text": [
      "2022-09-22 17:30:18.531116: I tensorflow/core/grappler/optimizers/custom_graph_optimizer_registry.cc:114] Plugin optimizer for device_type GPU is enabled.\n"
     ]
    },
    {
     "name": "stdout",
     "output_type": "stream",
     "text": [
      "363/363 [==============================] - 3s 8ms/step - loss: 0.9922 - main_output_loss: 0.8372 - aux_output_loss: 2.3874 - val_loss: 0.5878 - val_main_output_loss: 0.5304 - val_aux_output_loss: 1.1046\n",
      "Epoch 2/20\n",
      "363/363 [==============================] - 3s 7ms/step - loss: 0.5680 - main_output_loss: 0.5154 - aux_output_loss: 1.0419 - val_loss: 0.5096 - val_main_output_loss: 0.4607 - val_aux_output_loss: 0.9496\n",
      "Epoch 3/20\n",
      "363/363 [==============================] - 3s 7ms/step - loss: 0.5108 - main_output_loss: 0.4668 - aux_output_loss: 0.9068 - val_loss: 0.4720 - val_main_output_loss: 0.4315 - val_aux_output_loss: 0.8370\n",
      "Epoch 4/20\n",
      "363/363 [==============================] - 3s 7ms/step - loss: 0.4766 - main_output_loss: 0.4395 - aux_output_loss: 0.8107 - val_loss: 0.4534 - val_main_output_loss: 0.4201 - val_aux_output_loss: 0.7530\n",
      "Epoch 5/20\n",
      "363/363 [==============================] - 3s 7ms/step - loss: 0.4569 - main_output_loss: 0.4258 - aux_output_loss: 0.7366 - val_loss: 0.4337 - val_main_output_loss: 0.4054 - val_aux_output_loss: 0.6884\n",
      "Epoch 6/20\n",
      "363/363 [==============================] - 3s 7ms/step - loss: 0.4440 - main_output_loss: 0.4176 - aux_output_loss: 0.6816 - val_loss: 0.4276 - val_main_output_loss: 0.4033 - val_aux_output_loss: 0.6469\n",
      "Epoch 7/20\n",
      "363/363 [==============================] - 3s 7ms/step - loss: 0.4332 - main_output_loss: 0.4097 - aux_output_loss: 0.6447 - val_loss: 0.4178 - val_main_output_loss: 0.3961 - val_aux_output_loss: 0.6129\n",
      "Epoch 8/20\n",
      "363/363 [==============================] - 3s 7ms/step - loss: 0.4433 - main_output_loss: 0.4212 - aux_output_loss: 0.6416 - val_loss: 0.4281 - val_main_output_loss: 0.4058 - val_aux_output_loss: 0.6289\n",
      "Epoch 9/20\n",
      "363/363 [==============================] - 3s 7ms/step - loss: 0.4229 - main_output_loss: 0.4022 - aux_output_loss: 0.6091 - val_loss: 0.4091 - val_main_output_loss: 0.3907 - val_aux_output_loss: 0.5746\n",
      "Epoch 10/20\n",
      "363/363 [==============================] - 3s 7ms/step - loss: 0.4154 - main_output_loss: 0.3972 - aux_output_loss: 0.5797 - val_loss: 0.4022 - val_main_output_loss: 0.3851 - val_aux_output_loss: 0.5555\n",
      "Epoch 11/20\n",
      "363/363 [==============================] - 3s 7ms/step - loss: 0.4073 - main_output_loss: 0.3899 - aux_output_loss: 0.5641 - val_loss: 0.3960 - val_main_output_loss: 0.3800 - val_aux_output_loss: 0.5405\n",
      "Epoch 12/20\n",
      "363/363 [==============================] - 3s 7ms/step - loss: 0.4047 - main_output_loss: 0.3883 - aux_output_loss: 0.5516 - val_loss: 0.3872 - val_main_output_loss: 0.3719 - val_aux_output_loss: 0.5247\n",
      "Epoch 13/20\n",
      "363/363 [==============================] - 3s 7ms/step - loss: 0.3953 - main_output_loss: 0.3792 - aux_output_loss: 0.5402 - val_loss: 0.3836 - val_main_output_loss: 0.3693 - val_aux_output_loss: 0.5117\n",
      "Epoch 14/20\n",
      "363/363 [==============================] - 2s 7ms/step - loss: 0.3916 - main_output_loss: 0.3765 - aux_output_loss: 0.5278 - val_loss: 0.3781 - val_main_output_loss: 0.3640 - val_aux_output_loss: 0.5050\n",
      "Epoch 15/20\n",
      "363/363 [==============================] - 3s 7ms/step - loss: 0.3830 - main_output_loss: 0.3681 - aux_output_loss: 0.5179 - val_loss: 0.3717 - val_main_output_loss: 0.3580 - val_aux_output_loss: 0.4951\n",
      "Epoch 16/20\n",
      "363/363 [==============================] - 3s 7ms/step - loss: 0.3786 - main_output_loss: 0.3641 - aux_output_loss: 0.5092 - val_loss: 0.3729 - val_main_output_loss: 0.3598 - val_aux_output_loss: 0.4909\n",
      "Epoch 17/20\n",
      "363/363 [==============================] - 3s 7ms/step - loss: 0.3769 - main_output_loss: 0.3631 - aux_output_loss: 0.5008 - val_loss: 0.3675 - val_main_output_loss: 0.3545 - val_aux_output_loss: 0.4837\n",
      "Epoch 18/20\n",
      "363/363 [==============================] - 3s 7ms/step - loss: 0.3713 - main_output_loss: 0.3574 - aux_output_loss: 0.4960 - val_loss: 0.3598 - val_main_output_loss: 0.3473 - val_aux_output_loss: 0.4724\n",
      "Epoch 19/20\n",
      "363/363 [==============================] - 3s 7ms/step - loss: 0.3689 - main_output_loss: 0.3556 - aux_output_loss: 0.4884 - val_loss: 0.3553 - val_main_output_loss: 0.3431 - val_aux_output_loss: 0.4646\n",
      "Epoch 20/20\n",
      "363/363 [==============================] - 3s 7ms/step - loss: 0.3647 - main_output_loss: 0.3515 - aux_output_loss: 0.4834 - val_loss: 0.3580 - val_main_output_loss: 0.3464 - val_aux_output_loss: 0.4626\n"
     ]
    }
   ],
   "source": [
    "#Each output has its own loss function, and we need to set the weights, in this case making the main one to get most of it, for the training to focus 90% on improving the main output\n",
    "model.compile(loss=[\"mse\", \"mse\"], loss_weights=[0.9, 0.1], optimizer=\"sgd\")\n",
    "history = model.fit(\n",
    "    [X_train_A, X_train_B], [y_train, y_train],\n",
    "    epochs=20,\n",
    "    validation_data=([X_valid_A, X_valid_B], [y_valid, y_valid])\n",
    ")"
   ]
  },
  {
   "cell_type": "code",
   "execution_count": 114,
   "id": "5452cba6-1971-4917-95c8-2f977303c885",
   "metadata": {},
   "outputs": [
    {
     "name": "stdout",
     "output_type": "stream",
     "text": [
      "162/162 [==============================] - 1s 4ms/step - loss: 0.3938 - main_output_loss: 0.3808 - aux_output_loss: 0.5113\n"
     ]
    }
   ],
   "source": [
    "total_loss, main_loss, aux_loss = model.evaluate([X_test_A, X_test_B], [y_test, y_test])"
   ]
  },
  {
   "cell_type": "code",
   "execution_count": 117,
   "id": "92259de5-e121-4012-b65b-e69465830354",
   "metadata": {},
   "outputs": [
    {
     "name": "stdout",
     "output_type": "stream",
     "text": [
      "1/1 [==============================] - 0s 13ms/step\n"
     ]
    },
    {
     "data": {
      "text/plain": [
       "(array([1.0335037, 1.7891495, 1.773598 ], dtype=float32),\n",
       " array([1.3626611, 1.7393243, 2.486218 ], dtype=float32))"
      ]
     },
     "execution_count": 117,
     "metadata": {},
     "output_type": "execute_result"
    }
   ],
   "source": [
    "y_pred_main, y_pred_aux = model.predict([X_new_A, X_new_B])\n",
    "y_pred_main.flatten(), y_pred_aux.flatten()"
   ]
  },
  {
   "cell_type": "markdown",
   "id": "6b4bf54e-7250-4b5c-bbba-1bc41fd153ae",
   "metadata": {},
   "source": [
    "Using the Subclassing API to build Dynamic Models"
   ]
  },
  {
   "cell_type": "code",
   "execution_count": 132,
   "id": "f31ddd25-13e1-40ec-b040-e16471493cb6",
   "metadata": {},
   "outputs": [],
   "source": [
    "#Here we are creating exactly the same model as the last one, but using the subclassing API\n",
    "class WideAndDeepModel(keras.Model):\n",
    "    def __init__(self, units=30, activation=\"relu\", **kwargs):\n",
    "        super().__init__(**kwargs)\n",
    "        self.hidden1 = keras.layers.Dense(units, activation=activation)\n",
    "        self.hidden2 = keras.layers.Dense(units, activation=activation)\n",
    "        self.main_output = keras.layers.Dense(1)\n",
    "        self.aux_output = keras.layers.Dense(1)\n",
    "        \n",
    "    def call(self, inputs):\n",
    "        input_A, input_B = inputs\n",
    "        hidden1 = self.hidden1(input_B)\n",
    "        hidden2 = self.hidden2(hidden1)\n",
    "        concat = keras.layers.concatenate([input_A, hidden2])\n",
    "        main_output = self.main_output(concat)\n",
    "        aux_output = self.aux_output(hidden2)\n",
    "        return main_output, aux_output\n",
    "    \n",
    "model = WideAndDeepModel()"
   ]
  },
  {
   "cell_type": "code",
   "execution_count": 134,
   "id": "20e96840-fb1d-459e-bb7f-ef706b326546",
   "metadata": {
    "collapsed": true,
    "jupyter": {
     "outputs_hidden": true
    },
    "tags": []
   },
   "outputs": [
    {
     "name": "stdout",
     "output_type": "stream",
     "text": [
      "Epoch 1/20\n",
      "  9/363 [..............................] - ETA: 2s - loss: 5.1271 - output_1_loss: 4.9497 - output_2_loss: 6.7242  "
     ]
    },
    {
     "name": "stderr",
     "output_type": "stream",
     "text": [
      "2022-09-22 17:52:20.660500: I tensorflow/core/grappler/optimizers/custom_graph_optimizer_registry.cc:114] Plugin optimizer for device_type GPU is enabled.\n"
     ]
    },
    {
     "name": "stdout",
     "output_type": "stream",
     "text": [
      "363/363 [==============================] - ETA: 0s - loss: 1.0012 - output_1_loss: 0.8842 - output_2_loss: 2.0539"
     ]
    },
    {
     "name": "stderr",
     "output_type": "stream",
     "text": [
      "2022-09-22 17:52:23.023356: I tensorflow/core/grappler/optimizers/custom_graph_optimizer_registry.cc:114] Plugin optimizer for device_type GPU is enabled.\n"
     ]
    },
    {
     "name": "stdout",
     "output_type": "stream",
     "text": [
      "363/363 [==============================] - 3s 7ms/step - loss: 1.0012 - output_1_loss: 0.8842 - output_2_loss: 2.0539 - val_loss: 0.5592 - val_output_1_loss: 0.4985 - val_output_2_loss: 1.1055\n",
      "Epoch 2/20\n",
      "363/363 [==============================] - 3s 7ms/step - loss: 0.6144 - output_1_loss: 0.5690 - output_2_loss: 1.0229 - val_loss: 0.8773 - val_output_1_loss: 0.8607 - val_output_2_loss: 1.0271\n",
      "Epoch 3/20\n",
      "363/363 [==============================] - 3s 7ms/step - loss: 0.5307 - output_1_loss: 0.4903 - output_2_loss: 0.8944 - val_loss: 0.4793 - val_output_1_loss: 0.4422 - val_output_2_loss: 0.8135\n",
      "Epoch 4/20\n",
      "363/363 [==============================] - 3s 7ms/step - loss: 0.4826 - output_1_loss: 0.4490 - output_2_loss: 0.7849 - val_loss: 0.4490 - val_output_1_loss: 0.4179 - val_output_2_loss: 0.7289\n",
      "Epoch 5/20\n",
      "363/363 [==============================] - 3s 7ms/step - loss: 0.4636 - output_1_loss: 0.4355 - output_2_loss: 0.7166 - val_loss: 0.4339 - val_output_1_loss: 0.4076 - val_output_2_loss: 0.6702\n",
      "Epoch 6/20\n",
      "363/363 [==============================] - 3s 7ms/step - loss: 0.4524 - output_1_loss: 0.4281 - output_2_loss: 0.6708 - val_loss: 0.4205 - val_output_1_loss: 0.3973 - val_output_2_loss: 0.6296\n",
      "Epoch 7/20\n",
      "363/363 [==============================] - 3s 7ms/step - loss: 0.4356 - output_1_loss: 0.4126 - output_2_loss: 0.6420 - val_loss: 0.4109 - val_output_1_loss: 0.3898 - val_output_2_loss: 0.6009\n",
      "Epoch 8/20\n",
      "363/363 [==============================] - 3s 7ms/step - loss: 0.4218 - output_1_loss: 0.3997 - output_2_loss: 0.6204 - val_loss: 0.4074 - val_output_1_loss: 0.3880 - val_output_2_loss: 0.5820\n",
      "Epoch 9/20\n",
      "363/363 [==============================] - 3s 7ms/step - loss: 0.4136 - output_1_loss: 0.3932 - output_2_loss: 0.5976 - val_loss: 0.3920 - val_output_1_loss: 0.3729 - val_output_2_loss: 0.5632\n",
      "Epoch 10/20\n",
      "363/363 [==============================] - 3s 7ms/step - loss: 0.4051 - output_1_loss: 0.3855 - output_2_loss: 0.5817 - val_loss: 0.3942 - val_output_1_loss: 0.3765 - val_output_2_loss: 0.5542\n",
      "Epoch 11/20\n",
      "363/363 [==============================] - 3s 7ms/step - loss: 0.3969 - output_1_loss: 0.3777 - output_2_loss: 0.5697 - val_loss: 0.3784 - val_output_1_loss: 0.3610 - val_output_2_loss: 0.5354\n",
      "Epoch 12/20\n",
      "363/363 [==============================] - 3s 7ms/step - loss: 0.3921 - output_1_loss: 0.3739 - output_2_loss: 0.5560 - val_loss: 0.3761 - val_output_1_loss: 0.3597 - val_output_2_loss: 0.5237\n",
      "Epoch 13/20\n",
      "363/363 [==============================] - 3s 7ms/step - loss: 0.3875 - output_1_loss: 0.3698 - output_2_loss: 0.5466 - val_loss: 0.3724 - val_output_1_loss: 0.3562 - val_output_2_loss: 0.5186\n",
      "Epoch 14/20\n",
      "363/363 [==============================] - 3s 7ms/step - loss: 0.3791 - output_1_loss: 0.3619 - output_2_loss: 0.5346 - val_loss: 0.3642 - val_output_1_loss: 0.3487 - val_output_2_loss: 0.5031\n",
      "Epoch 15/20\n",
      "363/363 [==============================] - 3s 7ms/step - loss: 0.3740 - output_1_loss: 0.3578 - output_2_loss: 0.5201 - val_loss: 0.4221 - val_output_1_loss: 0.4122 - val_output_2_loss: 0.5106\n",
      "Epoch 16/20\n",
      "363/363 [==============================] - 3s 7ms/step - loss: 0.3844 - output_1_loss: 0.3696 - output_2_loss: 0.5172 - val_loss: 0.3566 - val_output_1_loss: 0.3427 - val_output_2_loss: 0.4816\n",
      "Epoch 17/20\n",
      "363/363 [==============================] - 3s 7ms/step - loss: 0.3674 - output_1_loss: 0.3530 - output_2_loss: 0.4963 - val_loss: 0.3558 - val_output_1_loss: 0.3419 - val_output_2_loss: 0.4812\n",
      "Epoch 18/20\n",
      "363/363 [==============================] - 3s 7ms/step - loss: 0.3623 - output_1_loss: 0.3480 - output_2_loss: 0.4906 - val_loss: 0.3517 - val_output_1_loss: 0.3382 - val_output_2_loss: 0.4726\n",
      "Epoch 19/20\n",
      "363/363 [==============================] - 3s 7ms/step - loss: 0.3578 - output_1_loss: 0.3440 - output_2_loss: 0.4827 - val_loss: 0.3440 - val_output_1_loss: 0.3316 - val_output_2_loss: 0.4557\n",
      "Epoch 20/20\n",
      "363/363 [==============================] - 3s 7ms/step - loss: 0.3533 - output_1_loss: 0.3396 - output_2_loss: 0.4767 - val_loss: 0.3418 - val_output_1_loss: 0.3291 - val_output_2_loss: 0.4560\n"
     ]
    }
   ],
   "source": [
    "model.compile(loss=[\"mse\", \"mse\"], loss_weights=[0.9, 0.1], optimizer=\"sgd\")\n",
    "history = model.fit(\n",
    "    [X_train_A, X_train_B], [y_train, y_train],\n",
    "    epochs=20,\n",
    "    validation_data=([X_valid_A, X_valid_B], [y_valid, y_valid])\n",
    ")"
   ]
  },
  {
   "cell_type": "code",
   "execution_count": 135,
   "id": "b18119d4-2727-4911-8c7b-a0d56379dea2",
   "metadata": {},
   "outputs": [
    {
     "name": "stdout",
     "output_type": "stream",
     "text": [
      "Model: \"wide_and_deep_model_5\"\n",
      "_________________________________________________________________\n",
      " Layer (type)                Output Shape              Param #   \n",
      "=================================================================\n",
      " dense_46 (Dense)            multiple                  210       \n",
      "                                                                 \n",
      " dense_47 (Dense)            multiple                  930       \n",
      "                                                                 \n",
      " dense_48 (Dense)            multiple                  36        \n",
      "                                                                 \n",
      " dense_49 (Dense)            multiple                  31        \n",
      "                                                                 \n",
      "=================================================================\n",
      "Total params: 1,207\n",
      "Trainable params: 1,207\n",
      "Non-trainable params: 0\n",
      "_________________________________________________________________\n"
     ]
    }
   ],
   "source": [
    "#When we use the summary() with this API, we get a list of layers with no info on how they are connected each other\n",
    "model.summary()"
   ]
  },
  {
   "cell_type": "code",
   "execution_count": null,
   "id": "7ac3922c-ed75-47ad-b0b8-6a79592b1dab",
   "metadata": {},
   "outputs": [],
   "source": []
  }
 ],
 "metadata": {
  "kernelspec": {
   "display_name": "Python 3.9 (tensorflow)",
   "language": "python",
   "name": "tensorflow"
  },
  "language_info": {
   "codemirror_mode": {
    "name": "ipython",
    "version": 3
   },
   "file_extension": ".py",
   "mimetype": "text/x-python",
   "name": "python",
   "nbconvert_exporter": "python",
   "pygments_lexer": "ipython3",
   "version": "3.9.13"
  }
 },
 "nbformat": 4,
 "nbformat_minor": 5
}
